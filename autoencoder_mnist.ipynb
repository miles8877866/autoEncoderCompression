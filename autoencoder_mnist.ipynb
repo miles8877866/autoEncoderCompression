{
 "cells": [
  {
   "cell_type": "markdown",
   "id": "b2818424",
   "metadata": {},
   "source": [
    "資料來源:https://blog.keras.io/building-autoencoders-in-keras.html"
   ]
  },
  {
   "cell_type": "markdown",
   "id": "06437aea",
   "metadata": {},
   "source": [
    "使用autoencoder來作為一種壓縮工具<br>\n",
    "原理是因為autoencoder具有編碼器與解碼器兩個部分，我們將資料透過編碼器去轉為特徵向量<br>\n",
    "這個特徵向量就是資料壓縮完的型態，並且可以透過解碼器來還原，不過他是透過神經網路訓練的，所以沒辦法百分之百還原，是一種失真壓縮方式。"
   ]
  },
  {
   "cell_type": "code",
   "execution_count": 1,
   "id": "c30ef38b",
   "metadata": {},
   "outputs": [],
   "source": [
    "import tensorflow.keras as tk\n",
    "\n",
    "from tensorflow.keras import layers\n",
    "# This is the size of our encoded representations\n",
    "encoding_dim = 32  # 32 floats -> compression of factor 24.5, assuming the input is 784 floats\n",
    "\n",
    "# 要丟進去的資料\n",
    "input_img = tk.Input(shape=(784,))\n",
    "\n",
    "# encoder將資料透過encoder去轉換成特徵向量，這部分也是我們壓縮的部分\n",
    "encoded = layers.Dense(encoding_dim, activation='relu')(input_img)\n",
    "\n",
    "# decoded是將資料做完encoded的部分做還原。\n",
    "decoded = layers.Dense(784, activation='sigmoid')(encoded)\n",
    "\n",
    "# autoencoder的架構:encoder->decoder\n",
    "autoencoder = tk.Model(input_img, decoded)"
   ]
  },
  {
   "cell_type": "code",
   "execution_count": 2,
   "id": "6d1675b4",
   "metadata": {},
   "outputs": [],
   "source": [
    "# encoder的部分，將資料丟進encoded的dense層\n",
    "encoder = tk.Model(input_img, encoded)"
   ]
  },
  {
   "cell_type": "code",
   "execution_count": 3,
   "id": "9281991f",
   "metadata": {},
   "outputs": [],
   "source": [
    "# encoder的輸入為32維度\n",
    "encoded_input = tk.Input(shape=(encoding_dim,))\n",
    "# decoder_layer是autoencoder的最後一層，[-1]的寫法是說倒數第一個\n",
    "decoder_layer = autoencoder.layers[-1]\n",
    "# decoder的model是將做完encoded部分的資料丟進去做還原資料的步驟，也是解壓縮的部分。\n",
    "decoder = tk.Model(encoded_input, decoder_layer(encoded_input))"
   ]
  },
  {
   "cell_type": "code",
   "execution_count": 4,
   "id": "9eec72ad",
   "metadata": {},
   "outputs": [],
   "source": [
    "#設定模型的optimizer和loss的計算方式\n",
    "autoencoder.compile(optimizer='adam', loss='binary_crossentropy')"
   ]
  },
  {
   "cell_type": "code",
   "execution_count": 5,
   "id": "1a5d5aa2",
   "metadata": {},
   "outputs": [],
   "source": [
    "from tensorflow.keras.datasets import mnist\n",
    "import numpy as np\n",
    "#load資料，是mnist的data\n",
    "(x_train, _), (x_test, _) = mnist.load_data()"
   ]
  },
  {
   "cell_type": "code",
   "execution_count": 6,
   "id": "488f4aee",
   "metadata": {},
   "outputs": [
    {
     "name": "stdout",
     "output_type": "stream",
     "text": [
      "(60000, 784)\n",
      "(10000, 784)\n"
     ]
    }
   ],
   "source": [
    "#做前置處理，包含正則化和擴張\n",
    "x_train = x_train.astype('float32') / 255.\n",
    "x_test = x_test.astype('float32') / 255.\n",
    "x_train = x_train.reshape((len(x_train), np.prod(x_train.shape[1:])))\n",
    "x_test = x_test.reshape((len(x_test), np.prod(x_test.shape[1:])))\n",
    "print(x_train.shape)\n",
    "print(x_test.shape)"
   ]
  },
  {
   "cell_type": "code",
   "execution_count": 7,
   "id": "9301cbbf",
   "metadata": {},
   "outputs": [
    {
     "name": "stdout",
     "output_type": "stream",
     "text": [
      "Train on 60000 samples, validate on 10000 samples\n",
      "Epoch 1/50\n",
      "60000/60000 [==============================] - 2s 30us/sample - loss: 0.2752 - val_loss: 0.1890\n",
      "Epoch 2/50\n",
      "60000/60000 [==============================] - 1s 12us/sample - loss: 0.1708 - val_loss: 0.1531\n",
      "Epoch 3/50\n",
      "60000/60000 [==============================] - 1s 11us/sample - loss: 0.1437 - val_loss: 0.1332\n",
      "Epoch 4/50\n",
      "60000/60000 [==============================] - 1s 11us/sample - loss: 0.1278 - val_loss: 0.1206\n",
      "Epoch 5/50\n",
      "60000/60000 [==============================] - 1s 12us/sample - loss: 0.1177 - val_loss: 0.1126\n",
      "Epoch 6/50\n",
      "60000/60000 [==============================] - 1s 12us/sample - loss: 0.1109 - val_loss: 0.1068\n",
      "Epoch 7/50\n",
      "60000/60000 [==============================] - 1s 11us/sample - loss: 0.1061 - val_loss: 0.1028\n",
      "Epoch 8/50\n",
      "60000/60000 [==============================] - 1s 11us/sample - loss: 0.1024 - val_loss: 0.0995\n",
      "Epoch 9/50\n",
      "60000/60000 [==============================] - 1s 11us/sample - loss: 0.0996 - val_loss: 0.0971\n",
      "Epoch 10/50\n",
      "60000/60000 [==============================] - 1s 11us/sample - loss: 0.0975 - val_loss: 0.0954\n",
      "Epoch 11/50\n",
      "60000/60000 [==============================] - 1s 12us/sample - loss: 0.0961 - val_loss: 0.0942\n",
      "Epoch 12/50\n",
      "60000/60000 [==============================] - 1s 10us/sample - loss: 0.0952 - val_loss: 0.0936\n",
      "Epoch 13/50\n",
      "60000/60000 [==============================] - 1s 11us/sample - loss: 0.0947 - val_loss: 0.0931\n",
      "Epoch 14/50\n",
      "60000/60000 [==============================] - 1s 11us/sample - loss: 0.0943 - val_loss: 0.0927\n",
      "Epoch 15/50\n",
      "60000/60000 [==============================] - 1s 11us/sample - loss: 0.0940 - val_loss: 0.0926\n",
      "Epoch 16/50\n",
      "60000/60000 [==============================] - 1s 11us/sample - loss: 0.0938 - val_loss: 0.0924\n",
      "Epoch 17/50\n",
      "60000/60000 [==============================] - 1s 12us/sample - loss: 0.0937 - val_loss: 0.0922\n",
      "Epoch 18/50\n",
      "60000/60000 [==============================] - 1s 14us/sample - loss: 0.0935 - val_loss: 0.0922\n",
      "Epoch 19/50\n",
      "60000/60000 [==============================] - 1s 14us/sample - loss: 0.0934 - val_loss: 0.0921\n",
      "Epoch 20/50\n",
      "60000/60000 [==============================] - 1s 12us/sample - loss: 0.0934 - val_loss: 0.0921\n",
      "Epoch 21/50\n",
      "60000/60000 [==============================] - 1s 11us/sample - loss: 0.0933 - val_loss: 0.0919\n",
      "Epoch 22/50\n",
      "60000/60000 [==============================] - 1s 11us/sample - loss: 0.0932 - val_loss: 0.0919\n",
      "Epoch 23/50\n",
      "60000/60000 [==============================] - 1s 11us/sample - loss: 0.0932 - val_loss: 0.0918\n",
      "Epoch 24/50\n",
      "60000/60000 [==============================] - 1s 11us/sample - loss: 0.0931 - val_loss: 0.0918\n",
      "Epoch 25/50\n",
      "60000/60000 [==============================] - 1s 14us/sample - loss: 0.0931 - val_loss: 0.0917\n",
      "Epoch 26/50\n",
      "60000/60000 [==============================] - 1s 12us/sample - loss: 0.0930 - val_loss: 0.0917\n",
      "Epoch 27/50\n",
      "60000/60000 [==============================] - 1s 11us/sample - loss: 0.0930 - val_loss: 0.0917\n",
      "Epoch 28/50\n",
      "60000/60000 [==============================] - 1s 11us/sample - loss: 0.0930 - val_loss: 0.0917\n",
      "Epoch 29/50\n",
      "60000/60000 [==============================] - 1s 11us/sample - loss: 0.0929 - val_loss: 0.0918\n",
      "Epoch 30/50\n",
      "60000/60000 [==============================] - 1s 11us/sample - loss: 0.0929 - val_loss: 0.0916\n",
      "Epoch 31/50\n",
      "60000/60000 [==============================] - 1s 11us/sample - loss: 0.0929 - val_loss: 0.0917\n",
      "Epoch 32/50\n",
      "60000/60000 [==============================] - 1s 12us/sample - loss: 0.0929 - val_loss: 0.0916\n",
      "Epoch 33/50\n",
      "60000/60000 [==============================] - 1s 11us/sample - loss: 0.0928 - val_loss: 0.0916\n",
      "Epoch 34/50\n",
      "60000/60000 [==============================] - 1s 11us/sample - loss: 0.0928 - val_loss: 0.0916\n",
      "Epoch 35/50\n",
      "60000/60000 [==============================] - 1s 11us/sample - loss: 0.0928 - val_loss: 0.0915\n",
      "Epoch 36/50\n",
      "60000/60000 [==============================] - 1s 11us/sample - loss: 0.0928 - val_loss: 0.0915\n",
      "Epoch 37/50\n",
      "60000/60000 [==============================] - 1s 11us/sample - loss: 0.0928 - val_loss: 0.0915\n",
      "Epoch 38/50\n",
      "60000/60000 [==============================] - 1s 12us/sample - loss: 0.0927 - val_loss: 0.0916\n",
      "Epoch 39/50\n",
      "60000/60000 [==============================] - 1s 12us/sample - loss: 0.0927 - val_loss: 0.0915\n",
      "Epoch 40/50\n",
      "60000/60000 [==============================] - 1s 12us/sample - loss: 0.0927 - val_loss: 0.0915\n",
      "Epoch 41/50\n",
      "60000/60000 [==============================] - 1s 12us/sample - loss: 0.0927 - val_loss: 0.0915\n",
      "Epoch 42/50\n",
      "60000/60000 [==============================] - 1s 12us/sample - loss: 0.0927 - val_loss: 0.0914\n",
      "Epoch 43/50\n",
      "60000/60000 [==============================] - 1s 12us/sample - loss: 0.0927 - val_loss: 0.0915\n",
      "Epoch 44/50\n",
      "60000/60000 [==============================] - 1s 12us/sample - loss: 0.0927 - val_loss: 0.0914\n",
      "Epoch 45/50\n",
      "60000/60000 [==============================] - 1s 12us/sample - loss: 0.0927 - val_loss: 0.0914\n",
      "Epoch 46/50\n",
      "60000/60000 [==============================] - 1s 12us/sample - loss: 0.0926 - val_loss: 0.0915\n",
      "Epoch 47/50\n",
      "60000/60000 [==============================] - 1s 12us/sample - loss: 0.0926 - val_loss: 0.0914\n",
      "Epoch 48/50\n",
      "60000/60000 [==============================] - 1s 12us/sample - loss: 0.0926 - val_loss: 0.0915\n",
      "Epoch 49/50\n",
      "60000/60000 [==============================] - 1s 12us/sample - loss: 0.0926 - val_loss: 0.0914\n",
      "Epoch 50/50\n",
      "60000/60000 [==============================] - 1s 12us/sample - loss: 0.0926 - val_loss: 0.0915\n"
     ]
    },
    {
     "data": {
      "text/plain": [
       "<tensorflow.python.keras.callbacks.History at 0x2649f9eba20>"
      ]
     },
     "execution_count": 7,
     "metadata": {},
     "output_type": "execute_result"
    }
   ],
   "source": [
    "#訓練網路\n",
    "autoencoder.fit(x_train, x_train,\n",
    "                epochs=50,\n",
    "                batch_size=256,\n",
    "                shuffle=True,\n",
    "                validation_data=(x_test, x_test))"
   ]
  },
  {
   "cell_type": "code",
   "execution_count": 8,
   "id": "8da363a9",
   "metadata": {},
   "outputs": [],
   "source": [
    "#將資料丟到encoder和decoder\n",
    "encoded_imgs = encoder.predict(x_test)\n",
    "decoded_imgs = decoder.predict(encoded_imgs)"
   ]
  },
  {
   "cell_type": "code",
   "execution_count": 9,
   "id": "063d9762",
   "metadata": {},
   "outputs": [
    {
     "data": {
      "image/png": "[encoded data removed]",
      "text/plain": [
       "<Figure size 1440x288 with 20 Axes>"
      ]
     },
     "metadata": {
      "needs_background": "light"
     },
     "output_type": "display_data"
    }
   ],
   "source": [
    "# 將結果show出\n",
    "import matplotlib.pyplot as plt\n",
    "\n",
    "n = 10  # 秀多少圖\n",
    "plt.figure(figsize=(20, 4))\n",
    "for i in range(n):\n",
    "    # 原本的圖\n",
    "    ax = plt.subplot(2, n, i + 1)\n",
    "    plt.imshow(x_test[i].reshape(28, 28))\n",
    "    plt.gray()\n",
    "    ax.get_xaxis().set_visible(False)\n",
    "    ax.get_yaxis().set_visible(False)\n",
    "\n",
    "    # 壓縮後解壓的圖\n",
    "    ax = plt.subplot(2, n, i + 1 + n)\n",
    "    plt.imshow(decoded_imgs[i].reshape(28, 28))\n",
    "    plt.gray()\n",
    "    ax.get_xaxis().set_visible(False)\n",
    "    ax.get_yaxis().set_visible(False)\n",
    "plt.show()"
   ]
  },
  {
   "cell_type": "code",
   "execution_count": null,
   "id": "0a6e22c7",
   "metadata": {},
   "outputs": [],
   "source": []
  }
 ],
 "metadata": {
  "kernelspec": {
   "display_name": "Python 3",
   "language": "python",
   "name": "python3"
  },
  "language_info": {
   "codemirror_mode": {
    "name": "ipython",
    "version": 3
   },
   "file_extension": ".py",
   "mimetype": "text/x-python",
   "name": "python",
   "nbconvert_exporter": "python",
   "pygments_lexer": "ipython3",
   "version": "3.6.13"
  }
 },
 "nbformat": 4,
 "nbformat_minor": 5
}
